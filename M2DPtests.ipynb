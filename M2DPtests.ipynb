{
 "cells": [
  {
   "cell_type": "code",
   "execution_count": 5,
   "id": "played-exercise",
   "metadata": {},
   "outputs": [
    {
     "name": "stdout",
     "output_type": "stream",
     "text": [
      "PointCloud with 40256 points.\n",
      "[[-0.06325    0.0359793  0.0420873]\n",
      " [-0.06275    0.0360343  0.0425949]\n",
      " [-0.0645     0.0365101  0.0404362]\n",
      " ...\n",
      " [-0.01575    0.187201  -0.0220209]\n",
      " [-0.01525    0.187218  -0.0237782]\n",
      " [-0.018      0.18794   -0.0197253]]\n"
     ]
    }
   ],
   "source": [
    "import time\n",
    "import open3d as o3d\n",
    "import numpy as np\n",
    "from m2dp import M2DP\n",
    "\n",
    "pcd = o3d.io.read_point_cloud(\"data/bunny/data/bun000.ply\")\n",
    "print(pcd)\n",
    "print(np.asarray(pcd.points))\n",
    "#o3d.visualization.draw_geometries([pcd])\n"
   ]
  },
  {
   "cell_type": "code",
   "execution_count": 6,
   "id": "super-ceiling",
   "metadata": {
    "tags": []
   },
   "outputs": [],
   "source": [
    "def dist(x,y):\n",
    "    '''\n",
    "        ||euklidean distance ^2||\n",
    "    '''\n",
    "    x = np.asarray(x)\n",
    "    y = np.asarray(y)\n",
    "    return np.linalg.norm((x-y)*(x-y))\n",
    "\n",
    "def M2DP_desc(seg):\n",
    "    \"\"\"\n",
    "        generate pointcloud signature\n",
    "    \"\"\"\n",
    "    des, A1 = M2DP(seg)\n",
    "    return des\n",
    "\n",
    "def M2DP_iss_desc(seg):\n",
    "    \"\"\"\n",
    "        generate pointcloud signature from \n",
    "        iss simplified pointcloud\n",
    "    \"\"\"\n",
    "    pcd = o3d.geometry.PointCloud()\n",
    "    pcd.points = o3d.utility.Vector3dVector(seg)\n",
    "    keypoints = o3d.geometry.keypoint.compute_iss_keypoints(pcd)\n",
    "    \n",
    "    des, A1 = M2DP(keypoints.points)\n",
    "    return des\n",
    "\n",
    "def M2DP_downsample_desc(seg, voxel_size):\n",
    "    \"\"\"\n",
    "        pointcloud signature downsampled to \n",
    "        VOXEL_SIZEd voxels\n",
    "    \"\"\"\n",
    "    VOXEL_SIZE = voxel_size\n",
    "    pcd = o3d.geometry.PointCloud()\n",
    "    pcd.points = o3d.utility.Vector3dVector(seg)\n",
    "    downpcd = pcd.voxel_down_sample(voxel_size=VOXEL_SIZE)\n",
    "    size = len(downpcd.points)\n",
    "    des, A1 = M2DP(downpcd.points)\n",
    "    return des, size\n",
    "    \n",
    "    "
   ]
  },
  {
   "cell_type": "markdown",
   "id": "combined-fiction",
   "metadata": {},
   "source": [
    "## M2DP with downsampling comparison"
   ]
  },
  {
   "cell_type": "code",
   "execution_count": 7,
   "id": "compliant-senior",
   "metadata": {},
   "outputs": [
    {
     "name": "stdout",
     "output_type": "stream",
     "text": [
      "standard M2DP t = 0.5277140140533447 d(bunnyorig, bunnyorig) = 0.0 40256 points\n",
      "vox 0.01 t = 0.0357060432434082 d(down _0.01, bunnyorig) = 0.05542126742068622 376 points\n",
      "vox 0.02 t = 0.03385281562805176 d(down_0.02, bunnyorig) = 0.06428948236640031 113 points\n",
      "vox 0.05 t = 0.031661033630371094 d(down_0.05, bunnyorig) = 0.23587941025180628 23 points\n"
     ]
    }
   ],
   "source": [
    "t1 = time.time()\n",
    "sign1 = M2DP_desc(pcd.points)\n",
    "t2 = time.time()\n",
    "t = t2 - t1\n",
    "\n",
    "# t1 = time.time()\n",
    "# sign2 = M2DP_iss_desc(pcd.points)\n",
    "# t2 = time.time()\n",
    "# t = t2 - t1\n",
    "# print(\"M2DP iss comp time:\", t)\n",
    "\n",
    "t1 = time.time()\n",
    "signtv1, size1 = M2DP_downsample_desc(pcd.points, 0.01)\n",
    "t2 = time.time()\n",
    "tv1 = t2 - t1\n",
    "\n",
    "t1 = time.time()\n",
    "signtv2, size2 = M2DP_downsample_desc(pcd.points, 0.02)\n",
    "t2 = time.time()\n",
    "tv2 = t2 - t1\n",
    "\n",
    "t1 = time.time()\n",
    "signtv5, size5 = M2DP_downsample_desc(pcd.points, 0.05)\n",
    "t2 = time.time()\n",
    "tv5 = t2 - t1\n",
    "\n",
    "#print(\"d(iss, orig) = \", dist(sign1, sign2))\n",
    "print(\"standard M2DP t =\",t, \"d(bunnyorig, bunnyorig) =\", dist(sign1, sign1), len(pcd.points), \"points\")\n",
    "print(\"vox 0.01 t =\",tv1, \"d(down _0.01, bunnyorig) =\", dist(sign1, signtv1), size1, \"points\")\n",
    "print(\"vox 0.02 t =\",tv2, \"d(down_0.02, bunnyorig) =\", dist(sign1, signtv2), size2, \"points\")\n",
    "print(\"vox 0.05 t =\",tv5, \"d(down_0.05, bunnyorig) =\", dist(sign1, signtv5), size5, \"points\")"
   ]
  },
  {
   "cell_type": "code",
   "execution_count": 8,
   "id": "exterior-samba",
   "metadata": {},
   "outputs": [
    {
     "name": "stdout",
     "output_type": "stream",
     "text": [
      "PointCloud with 41841 points.\n",
      "dragon t = 0.4260294437408447 d(dragon, bunnyorig) = 0.07035753104401343 41841 points\n",
      "dragon t = 0.03274250030517578 d(dragon, bunnyorig) = 0.08631220694357869 461 points\n",
      "dragon t = 0.029366493225097656 d(dragon, bunnyorig) = 0.10555629296329874 135 points\n",
      "dragon t = 0.02659296989440918 d(dragon, bunnyorig) = 0.13614170866036135 29 points\n"
     ]
    }
   ],
   "source": [
    "# compare to dragon\n",
    "dragon_pcd = o3d.io.read_point_cloud(\"data/dragon/dragonStandRight_0.ply\")\n",
    "print(dragon_pcd)\n",
    "\n",
    "t1 = time.time()\n",
    "signdrag1 = M2DP_desc(dragon_pcd.points)\n",
    "t2 = time.time()\n",
    "td0 = t2 - t1\n",
    "\n",
    "t1 = time.time()\n",
    "signdrag01, ld01 = M2DP_downsample_desc(dragon_pcd.points, 0.01)\n",
    "t2 = time.time()\n",
    "td01 = t2 - t1\n",
    "\n",
    "t1 = time.time()\n",
    "signdrag02, ld02 = M2DP_downsample_desc(dragon_pcd.points, 0.02)\n",
    "t2 = time.time()\n",
    "td02 = t2 - t1\n",
    "\n",
    "t1 = time.time()\n",
    "signdrag05, ld05 = M2DP_downsample_desc(dragon_pcd.points, 0.05)\n",
    "t2 = time.time()\n",
    "td05 = t2 - t1\n",
    "\n",
    "print(\"dragon t =\",td0,  \"d(dragon, bunnyorig) =\", dist(signdrag1, sign1), len(dragon_pcd.points), \"points\")\n",
    "print(\"dragon t =\",td01, \"d(dragon, bunnyorig) =\", dist(signdrag01, signtv1), ld01, \"points\")\n",
    "print(\"dragon t =\",td02, \"d(dragon, bunnyorig) =\", dist(signdrag02, signtv2), ld02, \"points\")\n",
    "print(\"dragon t =\",td05, \"d(dragon, bunnyorig) =\", dist(signdrag05, signtv5), ld05, \"points\")"
   ]
  },
  {
   "cell_type": "code",
   "execution_count": 9,
   "id": "indoor-spoke",
   "metadata": {},
   "outputs": [
    {
     "name": "stdout",
     "output_type": "stream",
     "text": [
      "d(bunny2, bunnyorig) = 0.010066959670916953 40097 points\n",
      "d(bunny2, bunnyorig) = 0.00898483412864675 371 points\n",
      "d(bunny2, bunnyorig) = 0.06474951499101353 114 points\n",
      "d(bunny2, bunnyorig) = 0.15107202873535808 28 points\n"
     ]
    }
   ],
   "source": [
    "# classify different bunny segment and dragon\n",
    "\n",
    "bunny2_pcd = o3d.io.read_point_cloud(\"data/bunny/data/bun045.ply\")\n",
    "\n",
    "\n",
    "bunny2_1 = M2DP_desc(bunny2_pcd.points)\n",
    "\n",
    "bunny2_01, ld01 = M2DP_downsample_desc(bunny2_pcd.points, 0.01)\n",
    "\n",
    "bunny2_02, ld02 = M2DP_downsample_desc(bunny2_pcd.points, 0.02)\n",
    "\n",
    "bunny2_05, ld05 = M2DP_downsample_desc(bunny2_pcd.points, 0.05)\n",
    "\n",
    "print(\"d(bunny2, bunnyorig) =\", dist(bunny2_1, sign1), len(bunny2_pcd.points), \"points\")\n",
    "print(\"d(bunny2, bunnyorig) =\", dist(bunny2_01, signtv1), ld01, \"points\")\n",
    "print(\"d(bunny2, bunnyorig) =\", dist(bunny2_02, signtv2), ld02, \"points\")\n",
    "print(\"d(bunny2, bunnyorig) =\", dist(bunny2_05, signtv5), ld05, \"points\")"
   ]
  },
  {
   "cell_type": "code",
   "execution_count": 10,
   "id": "latest-nature",
   "metadata": {},
   "outputs": [],
   "source": [
    "# visualisations\n",
    "\n",
    "# This function is only used to make the keypoints look better on the rendering\n",
    "def keypoints_to_spheres(keypoints):\n",
    "    spheres = o3d.geometry.TriangleMesh()\n",
    "    for keypoint in keypoints.points:\n",
    "        sphere = o3d.geometry.TriangleMesh.create_sphere(radius=0.001)\n",
    "        sphere.translate(keypoint)\n",
    "        spheres += sphere\n",
    "    spheres.paint_uniform_color([0.1, 0.1, 0.8])\n",
    "    return spheres\n",
    "\n",
    "\n",
    "#original\n",
    "o3d.visualization.draw_geometries([pcd])\n",
    "#iss\n",
    "keypoints = o3d.geometry.keypoint.compute_iss_keypoints(pcd)\n",
    "o3d.visualization.draw_geometries([keypoints_to_spheres(keypoints)])\n",
    "#downsampled\n",
    "downpcd = pcd.voxel_down_sample(voxel_size=0.02)\n",
    "o3d.visualization.draw_geometries([keypoints_to_spheres(downpcd)])"
   ]
  },
  {
   "cell_type": "code",
   "execution_count": null,
   "id": "japanese-killing",
   "metadata": {},
   "outputs": [],
   "source": []
  }
 ],
 "metadata": {
  "kernelspec": {
   "display_name": "Python 3",
   "language": "python",
   "name": "python3"
  },
  "language_info": {
   "codemirror_mode": {
    "name": "ipython",
    "version": 3
   },
   "file_extension": ".py",
   "mimetype": "text/x-python",
   "name": "python",
   "nbconvert_exporter": "python",
   "pygments_lexer": "ipython3",
   "version": "3.8.5"
  }
 },
 "nbformat": 4,
 "nbformat_minor": 5
}
